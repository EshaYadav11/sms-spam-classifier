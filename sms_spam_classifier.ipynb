{
 "cells": [
  {
   "cell_type": "code",
   "execution_count": 39,
   "id": "27886bc5-697b-4b1b-90bd-184127a61163",
   "metadata": {},
   "outputs": [],
   "source": [
    "# 📱 SMS Spam Classifier: Detecting Unwanted Messages with Machine Learning\n",
    "\n",
    "# A simple yet effective machine learning project that classifies SMS messages as SPAM or NOT SPAM using text preprocessing,\n",
    "# Bag of Words, and models like NAIVE BAYES and LOGISTIC REGRESSION.  \n",
    "\n"
   ]
  },
  {
   "cell_type": "code",
   "execution_count": 30,
   "id": "364705f3-0302-40ee-98ed-41bd2aa6b3eb",
   "metadata": {},
   "outputs": [
    {
     "name": "stdout",
     "output_type": "stream",
     "text": [
      "      label                                            message\n",
      "0  Not Spam  Go until jurong point, crazy.. Available only ...\n",
      "1  Not Spam                      Ok lar... Joking wif u oni...\n",
      "2      spam  Free entry in 2 a wkly comp to win FA Cup fina...\n",
      "3  Not Spam  U dun say so early hor... U c already then say...\n",
      "4  Not Spam  Nah I don't think he goes to usf, he lives aro...\n",
      "\n",
      "Labels count:\n",
      " label\n",
      "Not Spam    4825\n",
      "spam         747\n",
      "Name: count, dtype: int64\n",
      "Naive Bayes Accuracy: 0.9838565022421525\n",
      "Logistic Regression Accuracy: 0.97847533632287\n",
      "\n",
      "Classification Report (Naive Bayes):\n",
      "               precision    recall  f1-score   support\n",
      "\n",
      "           0       0.99      0.99      0.99       965\n",
      "           1       0.96      0.92      0.94       150\n",
      "\n",
      "    accuracy                           0.98      1115\n",
      "   macro avg       0.97      0.96      0.96      1115\n",
      "weighted avg       0.98      0.98      0.98      1115\n",
      "\n",
      "\n",
      "Classification Report (Logistic Regression):\n",
      "               precision    recall  f1-score   support\n",
      "\n",
      "           0       0.98      1.00      0.99       965\n",
      "           1       1.00      0.84      0.91       150\n",
      "\n",
      "    accuracy                           0.98      1115\n",
      "   macro avg       0.99      0.92      0.95      1115\n",
      "weighted avg       0.98      0.98      0.98      1115\n",
      "\n"
     ]
    },
    {
     "data": {
      "image/png": "[encoded data removed]",
      "text/plain": [
       "<Figure size 640x480 with 2 Axes>"
      ]
     },
     "metadata": {},
     "output_type": "display_data"
    },
    {
     "name": "stdout",
     "output_type": "stream",
     "text": [
      "Message: 'You have won a free iPhone! Claim now!!!' → \u001b[91mSpam\u001b[0m\n",
      "Message: 'Hey, are we meeting for lunch tomorrow?' → \u001b[92mNot Spam\u001b[0m\n",
      "Message: 'Free entry in 2 lucky draws just for you!' → \u001b[92mNot Spam\u001b[0m\n"
     ]
    }
   ],
   "source": [
    "import pandas as pd\n",
    "import seaborn as sns\n",
    "import matplotlib.pyplot as plt\n",
    "from sklearn.model_selection import train_test_split\n",
    "from sklearn.feature_extraction.text import CountVectorizer\n",
    "from sklearn.naive_bayes import MultinomialNB\n",
    "from sklearn.linear_model import LogisticRegression\n",
    "from sklearn.metrics import accuracy_score, confusion_matrix, classification_report\n",
    "\n",
    "# Loading CSV file \n",
    "data = pd.read_csv(\"spam.csv\", encoding='latin-1')\n",
    "\n",
    "# Keeping only useful columns\n",
    "data = data[['v1', 'v2']]\n",
    "data.columns = ['label', 'message']\n",
    "\n",
    "data['label'] = data['label'].replace({'ham': 'Not Spam'})\n",
    "\n",
    "print(data.head())\n",
    "print(\"\\nLabels count:\\n\", data['label'].value_counts())\n",
    "\n",
    "# Converting 'ham' → 0, 'spam' → 1\n",
    "data['label_num'] = data['label'].map({'Not Spam':0, 'spam':1})\n",
    "\n",
    "X_train, X_test, y_train, y_test = train_test_split(\n",
    "    data['message'], data['label_num'], \n",
    "    test_size=0.2, random_state=42\n",
    ")\n",
    "\n",
    "vectorizer = CountVectorizer(stop_words='english')\n",
    "X_train_vec = vectorizer.fit_transform(X_train)\n",
    "X_test_vec = vectorizer.transform(X_test)\n",
    "\n",
    "# Using Naive Bayes\n",
    "nb = MultinomialNB()\n",
    "nb.fit(X_train_vec, y_train)\n",
    "y_pred_nb = nb.predict(X_test_vec)\n",
    "\n",
    "# Using Logistic Regression\n",
    "lr = LogisticRegression(max_iter=1000)\n",
    "lr.fit(X_train_vec, y_train)\n",
    "y_pred_lr = lr.predict(X_test_vec)\n",
    "\n",
    "print(\"Naive Bayes Accuracy:\", accuracy_score(y_test, y_pred_nb))\n",
    "print(\"Logistic Regression Accuracy:\", accuracy_score(y_test, y_pred_lr))\n",
    "\n",
    "print(\"\\nClassification Report (Naive Bayes):\\n\", classification_report(y_test, y_pred_nb))\n",
    "print(\"\\nClassification Report (Logistic Regression):\\n\", classification_report(y_test, y_pred_lr))\n",
    "\n",
    "# Using Confusion Matrix for Logistic Regression\n",
    "cm = confusion_matrix(y_test, y_pred_lr)\n",
    "sns.heatmap(cm, annot=True, fmt=\"d\", cmap=\"Blues\", xticklabels=[\"Not Spam\", \"Spam\"], yticklabels=[\"Not Spam\", \"Spam\"])\n",
    "plt.xlabel(\"Predicted\")\n",
    "plt.ylabel(\"Actual\")\n",
    "plt.show()\n",
    "\n",
    "messages = [\n",
    "    \"You have won a free iPhone! Claim now!!!\",\n",
    "    \"Hey, are we meeting for lunch tomorrow?\",\n",
    "    \"Free entry in 2 lucky draws just for you!\"\n",
    "]\n",
    "\n",
    "pred = lr.predict(vectorizer.transform(messages))\n",
    "\n",
    "for msg, p in zip(messages, pred):\n",
    "    if p == 1:  # For Spam\n",
    "        print(f\"Message: '{msg}' → \\033[91mSpam\\033[0m\")   \n",
    "    else:       # For Not Spam\n",
    "        print(f\"Message: '{msg}' → \\033[92mNot Spam\\033[0m\") \n"
   ]
  },
  {
   "cell_type": "code",
   "execution_count": null,
   "id": "6e0420bf-7d13-4869-89ea-d58abbe3d0e5",
   "metadata": {},
   "outputs": [],
   "source": []
  }
 ],
 "metadata": {
  "kernelspec": {
   "display_name": "Python 3 (ipykernel)",
   "language": "python",
   "name": "python3"
  },
  "language_info": {
   "codemirror_mode": {
    "name": "ipython",
    "version": 3
   },
   "file_extension": ".py",
   "mimetype": "text/x-python",
   "name": "python",
   "nbconvert_exporter": "python",
   "pygments_lexer": "ipython3",
   "version": "3.12.4"
  }
 },
 "nbformat": 4,
 "nbformat_minor": 5
}
